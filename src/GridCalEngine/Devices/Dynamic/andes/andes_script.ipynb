{
 "cells": [
  {
   "cell_type": "code",
   "execution_count": 75,
   "id": "9793ad96-e203-4f84-9445-33b244f0a2fd",
   "metadata": {},
   "outputs": [],
   "source": [
    "import andes"
   ]
  },
  {
   "cell_type": "code",
   "execution_count": 76,
   "id": "05a9f78a-04d4-4354-94e6-c7a5fd15a72d",
   "metadata": {},
   "outputs": [],
   "source": [
    "andes.config_logger(10)"
   ]
  },
  {
   "cell_type": "code",
   "execution_count": 77,
   "id": "df385177-b402-41af-ac7d-03606b85a6ee",
   "metadata": {},
   "outputs": [],
   "source": [
    "from andes.utils.paths import get_case"
   ]
  },
  {
   "cell_type": "code",
   "execution_count": 78,
   "id": "494ea0ed-9d94-40df-8cc8-46abc304c3bb",
   "metadata": {},
   "outputs": [
    {
     "name": "stderr",
     "output_type": "stream",
     "text": [
      "Working directory: \"/home/marina\"\n",
      "Found files: ['/home/marina/andes/andes/cases/Gen_Load/Gen_Load1.json']\n",
      "> Reloaded generated Python code of module \"pycode\".\n",
      "Input format guessed as json.\n",
      "Parsing input file \"/home/marina/andes/andes/cases/Gen_Load/Gen_Load1.json\"...\n",
      "Input file parsed in 0.0026 seconds.\n",
      "Setting internal address for Bus\n",
      "Setting internal address for PQ\n",
      "Setting internal address for Slack\n",
      "Setting internal address for Line\n",
      "Setting internal address for Area\n",
      "No need to update connectivity.\n",
      "System internal structure set up in 0.0331 seconds.\n",
      "Entering connectivity check.\n",
      "-> System connectivity check results:\n",
      "  No islanded bus detected.\n",
      "  System is interconnected.\n",
      "  Bus indices in interconnected system (0-based): [[0, 1]]\n",
      "  Each island has a slack bus correctly defined and enabled.\n",
      "\n",
      "-> Power flow calculation\n",
      "           Numba: Off\n",
      "   Sparse solver: KLU\n",
      " Solution method: NR method\n",
      "No need to update connectivity.\n",
      "========== Bus has <pflow_init> = True ==========\n",
      "Initialization sequence:\n",
      "a -> v\n",
      "Bus: assignment initialization phase begins\n",
      "========== PQ has <pflow_init> = True ==========\n",
      "Initialization sequence:\n",
      "a -> v\n",
      "PQ: assignment initialization phase begins\n",
      "========== Slack has <pflow_init> = True ==========\n",
      "Initialization sequence:\n",
      "q -> p -> a -> v\n",
      "Slack: assignment initialization phase begins\n",
      "========== Line has <pflow_init> = True ==========\n",
      "Initialization sequence:\n",
      "a1 -> a2 -> v1 -> v2\n",
      "Line: assignment initialization phase begins\n",
      "========== Area has <pflow_init> = True ==========\n",
      "Initialization sequence:\n",
      "\n",
      "Area: assignment initialization phase begins\n",
      "Power flow initialized in 0.0100 seconds.\n",
      "Jacobian updated at t=-1.000000.\n",
      "Max. algeb mismatch 10.693 on v Bus 1\n",
      "0: |F(x)| = 10.693\n",
      "Jacobian updated at t=-1.000000.\n",
      "Max. algeb mismatch 1.613624513 on v Bus 1\n",
      "1: |F(x)| = 1.613624513\n",
      "Jacobian updated at t=-1.000000.\n",
      "Max. algeb mismatch 0.07742037701 on v Bus 1\n",
      "2: |F(x)| = 0.07742037701\n",
      "Jacobian updated at t=-1.000000.\n",
      "Max. algeb mismatch 0.0002179936328 on v Bus 1\n",
      "3: |F(x)| = 0.0002179936328\n",
      "Jacobian updated at t=-1.000000.\n",
      "Max. algeb mismatch 1.748073436e-09 on v Bus 1\n",
      "4: |F(x)| = 1.748073436e-09\n",
      "Converged in 5 iterations in 0.0088 seconds.\n",
      "Report saved to \"Gen_Load1_out.txt\" in 0.0003 seconds.\n"
     ]
    },
    {
     "name": "stdout",
     "output_type": "stream",
     "text": [
      "-> Single process finished in 0.2157 seconds.\n"
     ]
    }
   ],
   "source": [
    "ss = andes.run(get_case('/home/marina/andes/andes/cases/Gen_Load/Gen_Load1.json'),\n",
    "                default_config=True)"
   ]
  },
  {
   "cell_type": "code",
   "execution_count": 79,
   "id": "bfc715c7-5206-4895-9d86-2cf35c24df24",
   "metadata": {},
   "outputs": [
    {
     "data": {
      "text/plain": [
       "array([2.06469935e-18, 1.95628959e-02, 1.00000000e+00, 7.67755720e-01,\n",
       "       1.87361808e+01, 3.34652320e-01])"
      ]
     },
     "execution_count": 79,
     "metadata": {},
     "output_type": "execute_result"
    }
   ],
   "source": [
    "ss.dae.y"
   ]
  },
  {
   "cell_type": "code",
   "execution_count": 80,
   "id": "81060922-e932-4a8b-852a-d8f592836f59",
   "metadata": {},
   "outputs": [
    {
     "name": "stderr",
     "output_type": "stream",
     "text": [
      "Working directory: \"/home/marina\"\n",
      "Found files: ['/home/marina/andes/andes/cases/Gen_Load/Gen_Load1.json']\n",
      "> Reloaded generated Python code of module \"pycode\".\n",
      "Input format guessed as json.\n",
      "Parsing input file \"/home/marina/andes/andes/cases/Gen_Load/Gen_Load1.json\"...\n",
      "Input file parsed in 0.0021 seconds.\n"
     ]
    }
   ],
   "source": [
    "ss = andes.load(get_case('/home/marina/andes/andes/cases/Gen_Load/Gen_Load1.json'),\n",
    "                default_config=True,\n",
    "                setup=False)\n"
   ]
  },
  {
   "cell_type": "code",
   "execution_count": 81,
   "id": "e5aa2243-1f64-45a4-b00c-aa5426f7445e",
   "metadata": {},
   "outputs": [
    {
     "name": "stderr",
     "output_type": "stream",
     "text": [
      "Setting internal address for Bus\n",
      "Setting internal address for PQ\n",
      "Setting internal address for Slack\n",
      "Setting internal address for Line\n",
      "Setting internal address for Area\n",
      "No need to update connectivity.\n",
      "System internal structure set up in 0.0484 seconds.\n"
     ]
    },
    {
     "data": {
      "text/plain": [
       "True"
      ]
     },
     "execution_count": 81,
     "metadata": {},
     "output_type": "execute_result"
    }
   ],
   "source": [
    "ss.setup()"
   ]
  },
  {
   "cell_type": "code",
   "execution_count": 82,
   "id": "c835e26f-18e9-4227-af3d-0265977784b0",
   "metadata": {},
   "outputs": [
    {
     "name": "stderr",
     "output_type": "stream",
     "text": [
      "Entering connectivity check.\n",
      "-> System connectivity check results:\n",
      "  No islanded bus detected.\n",
      "  System is interconnected.\n",
      "  Bus indices in interconnected system (0-based): [[0, 1]]\n",
      "  Each island has a slack bus correctly defined and enabled.\n",
      "\n",
      "-> Power flow calculation\n",
      "           Numba: Off\n",
      "   Sparse solver: KLU\n",
      " Solution method: NR method\n",
      "No need to update connectivity.\n",
      "========== Bus has <pflow_init> = True ==========\n",
      "Initialization sequence:\n",
      "a -> v\n",
      "Bus: assignment initialization phase begins\n",
      "========== PQ has <pflow_init> = True ==========\n",
      "Initialization sequence:\n",
      "a -> v\n",
      "PQ: assignment initialization phase begins\n",
      "========== Slack has <pflow_init> = True ==========\n",
      "Initialization sequence:\n",
      "q -> p -> a -> v\n",
      "Slack: assignment initialization phase begins\n",
      "========== Line has <pflow_init> = True ==========\n",
      "Initialization sequence:\n",
      "a1 -> a2 -> v1 -> v2\n",
      "Line: assignment initialization phase begins\n",
      "========== Area has <pflow_init> = True ==========\n",
      "Initialization sequence:\n",
      "\n",
      "Area: assignment initialization phase begins\n",
      "Power flow initialized in 0.0195 seconds.\n",
      "Jacobian updated at t=-1.000000.\n",
      "Max. algeb mismatch 10.693 on v Bus 1\n",
      "0: |F(x)| = 10.693\n",
      "Jacobian updated at t=-1.000000.\n",
      "Max. algeb mismatch 1.613624513 on v Bus 1\n",
      "1: |F(x)| = 1.613624513\n",
      "Jacobian updated at t=-1.000000.\n",
      "Max. algeb mismatch 0.07742037701 on v Bus 1\n",
      "2: |F(x)| = 0.07742037701\n",
      "Jacobian updated at t=-1.000000.\n",
      "Max. algeb mismatch 0.0002179936328 on v Bus 1\n",
      "3: |F(x)| = 0.0002179936328\n",
      "Jacobian updated at t=-1.000000.\n",
      "Max. algeb mismatch 1.748073436e-09 on v Bus 1\n",
      "4: |F(x)| = 1.748073436e-09\n",
      "Converged in 5 iterations in 0.0192 seconds.\n",
      "Report saved to \"Gen_Load1_out.txt\" in 0.0010 seconds.\n"
     ]
    },
    {
     "data": {
      "text/plain": [
       "True"
      ]
     },
     "execution_count": 82,
     "metadata": {},
     "output_type": "execute_result"
    }
   ],
   "source": [
    "ss.PFlow.run()"
   ]
  },
  {
   "cell_type": "code",
   "execution_count": 83,
   "id": "4c3cf61d-89ac-4dda-810a-033ae3cfec31",
   "metadata": {},
   "outputs": [
    {
     "name": "stderr",
     "output_type": "stream",
     "text": [
      "No need to update connectivity.\n",
      "Setting internal address for Toggle\n",
      "Bus internal address exists\n",
      "PQ internal address exists\n",
      "Slack internal address exists\n",
      "Line internal address exists\n",
      "Area internal address exists\n",
      "Setting internal address for GENCLS\n",
      "Bus RHS address exists\n",
      "PQ RHS address exists\n",
      "Slack RHS address exists\n",
      "Line RHS address exists\n",
      "Area RHS address exists\n",
      "========== Toggle has <tds_init> = True ==========\n",
      "Initialization sequence:\n",
      "\n",
      "Toggle: assignment initialization phase begins\n",
      "========== PQ has <tds_init> = True ==========\n",
      "Initialization sequence:\n",
      "a -> v\n",
      "PQ: assignment initialization phase begins\n",
      "========== Slack has <tds_init> = False ==========\n",
      "========== Line has <tds_init> = True ==========\n",
      "Initialization sequence:\n",
      "a1 -> a2 -> v1 -> v2\n",
      "Line: assignment initialization phase begins\n",
      "========== Area has <tds_init> = True ==========\n",
      "Initialization sequence:\n",
      "\n",
      "Area: assignment initialization phase begins\n",
      "Group <StaticGen> does not share property <p>.\n",
      "========== GENCLS has <tds_init> = True ==========\n",
      "Initialization sequence:\n",
      "delta -> omega -> Id -> Iq -> vd -> vq -> tm -> te -> vf -> XadIfd ->\n",
      "Pe -> Qe -> psid -> psiq -> a -> v\n",
      "GENCLS: assignment initialization phase begins\n",
      "Jacobian updated at t=0.000000.\n",
      "PQ.vcmp out of limits <vmin>\n",
      "\n",
      "idx | Flag | Input Value | Limit\n",
      "----+------+-------------+------\n",
      " 0  | zl   | 0.768       | 0.900\n",
      "\n",
      "\n",
      "Initialization tests passed.\n",
      "Calculated TDS.h = 0.0333333\n",
      "Initialization for dynamics completed in 0.0495 seconds.\n",
      "Initialization was successful.\n"
     ]
    },
    {
     "data": {
      "text/plain": [
       "array([ 5.79736039e-03,  1.00000000e+00,  2.06469935e-18,  1.95628959e-02,\n",
       "        1.00000000e+00,  7.67755720e-01,  1.87361808e+01,  3.34652320e-01,\n",
       "        1.87378060e+01,  2.26026913e-01,  5.79732791e-03,  9.99983195e-01,\n",
       "        8.61387012e-01,  8.61387012e-01,  3.81099313e+00,  3.81099313e+00,\n",
       "        3.34652320e-01,  1.87361808e+01,  1.00032224e+00, -3.39040369e-02])"
      ]
     },
     "execution_count": 83,
     "metadata": {},
     "output_type": "execute_result"
    }
   ],
   "source": [
    "ss.TDS.init()"
   ]
  },
  {
   "cell_type": "code",
   "execution_count": 84,
   "id": "26942c24-55f2-4768-886d-1a235abe79d2",
   "metadata": {},
   "outputs": [
    {
     "name": "stderr",
     "output_type": "stream",
     "text": [
      "No need to update connectivity.\n"
     ]
    },
    {
     "data": {
      "text/plain": [
       "array([ 5.79736039e-03,  1.00000000e+00,  2.06469935e-18,  1.95628959e-02,\n",
       "        1.00000000e+00,  7.67755720e-01,  1.87361808e+01,  3.34652320e-01,\n",
       "        1.87378060e+01,  2.26026913e-01,  5.79732791e-03,  9.99983195e-01,\n",
       "        8.61387012e-01,  8.61387012e-01,  3.81099313e+00,  3.81099313e+00,\n",
       "        3.34652320e-01,  1.87361808e+01,  1.00032224e+00, -3.39040369e-02])"
      ]
     },
     "execution_count": 84,
     "metadata": {},
     "output_type": "execute_result"
    }
   ],
   "source": [
    "ss.TDS.init()"
   ]
  },
  {
   "cell_type": "code",
   "execution_count": 85,
   "id": "74759831-926b-432b-8d5a-f03a7cf64f7b",
   "metadata": {},
   "outputs": [
    {
     "data": {
      "text/plain": [
       "array([ 5.79736039e-03,  1.00000000e+00,  2.06469935e-18,  1.95628959e-02,\n",
       "        1.00000000e+00,  7.67755720e-01,  1.87361808e+01,  3.34652320e-01,\n",
       "        1.87378060e+01,  2.26026913e-01,  5.79732791e-03,  9.99983195e-01,\n",
       "        8.61387012e-01,  8.61387012e-01,  3.81099313e+00,  3.81099313e+00,\n",
       "        3.34652320e-01,  1.87361808e+01,  1.00032224e+00, -3.39040369e-02])"
      ]
     },
     "execution_count": 85,
     "metadata": {},
     "output_type": "execute_result"
    }
   ],
   "source": [
    "ss.dae.xy"
   ]
  },
  {
   "cell_type": "code",
   "execution_count": 86,
   "id": "51642708-27fe-43f2-9e25-cc9454afd6b2",
   "metadata": {},
   "outputs": [
    {
     "data": {
      "text/plain": [
       "array([1.        , 0.76775572])"
      ]
     },
     "execution_count": 86,
     "metadata": {},
     "output_type": "execute_result"
    }
   ],
   "source": [
    "ss.Bus.v.v"
   ]
  },
  {
   "cell_type": "code",
   "execution_count": 87,
   "id": "01d7071f-c46b-486e-ba95-6a173e939a45",
   "metadata": {},
   "outputs": [
    {
     "data": {
      "text/plain": [
       "array([2.06469935e-18, 1.95628959e-02])"
      ]
     },
     "execution_count": 87,
     "metadata": {},
     "output_type": "execute_result"
    }
   ],
   "source": [
    "ss.Bus.a.v"
   ]
  },
  {
   "cell_type": "code",
   "execution_count": 88,
   "id": "2e35a8a7-e730-45ba-9f36-d64e913c22bb",
   "metadata": {},
   "outputs": [
    {
     "data": {
      "text/plain": [
       "array([0.00579736])"
      ]
     },
     "execution_count": 88,
     "metadata": {},
     "output_type": "execute_result"
    }
   ],
   "source": [
    "ss.GENCLS.delta.v"
   ]
  },
  {
   "cell_type": "code",
   "execution_count": 89,
   "id": "25d84b92-b589-4570-894f-f55d9c970c33",
   "metadata": {},
   "outputs": [
    {
     "data": {
      "text/plain": [
       "array([1.])"
      ]
     },
     "execution_count": 89,
     "metadata": {},
     "output_type": "execute_result"
    }
   ],
   "source": [
    "ss.GENCLS.omega.v"
   ]
  },
  {
   "cell_type": "code",
   "execution_count": 90,
   "id": "060b3771-addd-4be0-886d-b5851bd74f87",
   "metadata": {},
   "outputs": [
    {
     "data": {
      "text/plain": [
       "array([18.73618076])"
      ]
     },
     "execution_count": 90,
     "metadata": {},
     "output_type": "execute_result"
    }
   ],
   "source": [
    "ss.Slack.q.v"
   ]
  },
  {
   "cell_type": "code",
   "execution_count": 91,
   "id": "b4bce205-bb1e-429c-8a90-4ef0ff4cec18",
   "metadata": {},
   "outputs": [
    {
     "data": {
      "text/plain": [
       "array([0.33465232])"
      ]
     },
     "execution_count": 91,
     "metadata": {},
     "output_type": "execute_result"
    }
   ],
   "source": [
    "ss.Slack.p.v"
   ]
  },
  {
   "cell_type": "code",
   "execution_count": 92,
   "id": "182d0ef1-70ca-4e73-bc29-603e7c5a688b",
   "metadata": {},
   "outputs": [
    {
     "data": {
      "text/plain": [
       "array([18.73780599])"
      ]
     },
     "execution_count": 92,
     "metadata": {},
     "output_type": "execute_result"
    }
   ],
   "source": [
    "ss.GENCLS.Id.v"
   ]
  },
  {
   "cell_type": "code",
   "execution_count": 93,
   "id": "b2e4ef7e-f18e-4dd9-8aa6-d8d4eea53f92",
   "metadata": {},
   "outputs": [
    {
     "data": {
      "text/plain": [
       "array([0.22602691])"
      ]
     },
     "execution_count": 93,
     "metadata": {},
     "output_type": "execute_result"
    }
   ],
   "source": [
    "ss.GENCLS.Iq.v"
   ]
  },
  {
   "cell_type": "code",
   "execution_count": 94,
   "id": "945a897b-0278-4f85-aa29-b3174720e8d2",
   "metadata": {},
   "outputs": [
    {
     "data": {
      "text/plain": [
       "array([0.00579733])"
      ]
     },
     "execution_count": 94,
     "metadata": {},
     "output_type": "execute_result"
    }
   ],
   "source": [
    "ss.GENCLS.vd.v"
   ]
  },
  {
   "cell_type": "code",
   "execution_count": 95,
   "id": "b837e6ac-35af-46da-b7b0-4546238b7f5e",
   "metadata": {},
   "outputs": [
    {
     "data": {
      "text/plain": [
       "array([0.9999832])"
      ]
     },
     "execution_count": 95,
     "metadata": {},
     "output_type": "execute_result"
    }
   ],
   "source": [
    "ss.GENCLS.vq.v"
   ]
  },
  {
   "cell_type": "code",
   "execution_count": 96,
   "id": "32f5fedc-af0f-4ab9-8a81-ed9ccf3fc1f8",
   "metadata": {},
   "outputs": [
    {
     "data": {
      "text/plain": [
       "array([0.86138701])"
      ]
     },
     "execution_count": 96,
     "metadata": {},
     "output_type": "execute_result"
    }
   ],
   "source": [
    "ss.GENCLS.tm.v"
   ]
  },
  {
   "cell_type": "code",
   "execution_count": 97,
   "id": "3925208c-dffb-4532-b054-6e69ff49e0d5",
   "metadata": {},
   "outputs": [
    {
     "data": {
      "text/plain": [
       "array([0.86138701])"
      ]
     },
     "execution_count": 97,
     "metadata": {},
     "output_type": "execute_result"
    }
   ],
   "source": [
    "ss.GENCLS.te.v"
   ]
  },
  {
   "cell_type": "code",
   "execution_count": 98,
   "id": "79fe9c4f-4c4a-4948-8fa4-f358d3758096",
   "metadata": {},
   "outputs": [
    {
     "data": {
      "text/plain": [
       "array([3.81099313])"
      ]
     },
     "execution_count": 98,
     "metadata": {},
     "output_type": "execute_result"
    }
   ],
   "source": [
    "ss.GENCLS.vf.v"
   ]
  },
  {
   "cell_type": "code",
   "execution_count": 99,
   "id": "fe35d0e3-1df7-41a7-a4b4-6f7529f39740",
   "metadata": {},
   "outputs": [
    {
     "data": {
      "text/plain": [
       "array([0.33465232])"
      ]
     },
     "execution_count": 99,
     "metadata": {},
     "output_type": "execute_result"
    }
   ],
   "source": [
    "ss.GENCLS.Pe.v"
   ]
  },
  {
   "cell_type": "code",
   "execution_count": 100,
   "id": "2624cd6b-261a-4d58-bf5d-db3ddadc5af5",
   "metadata": {},
   "outputs": [
    {
     "data": {
      "text/plain": [
       "array([18.73618076])"
      ]
     },
     "execution_count": 100,
     "metadata": {},
     "output_type": "execute_result"
    }
   ],
   "source": [
    "ss.GENCLS.Qe.v"
   ]
  },
  {
   "cell_type": "code",
   "execution_count": 101,
   "id": "38dc979b-c4c4-404a-98a4-2e45cf7cb760",
   "metadata": {},
   "outputs": [
    {
     "data": {
      "text/plain": [
       "array([1.00032224])"
      ]
     },
     "execution_count": 101,
     "metadata": {},
     "output_type": "execute_result"
    }
   ],
   "source": [
    "ss.GENCLS.psid.v"
   ]
  },
  {
   "cell_type": "code",
   "execution_count": 102,
   "id": "ae2e10ef-6ef2-444b-9bec-abef0d17eb3d",
   "metadata": {},
   "outputs": [
    {
     "data": {
      "text/plain": [
       "array([-0.03390404])"
      ]
     },
     "execution_count": 102,
     "metadata": {},
     "output_type": "execute_result"
    }
   ],
   "source": [
    "ss.GENCLS.psiq.v"
   ]
  },
  {
   "cell_type": "code",
   "execution_count": 103,
   "id": "5cab7010-c36f-4748-9ca8-1018ce3f709c",
   "metadata": {},
   "outputs": [],
   "source": [
    "# configure simulation time\n",
    "ss.TDS.config.tf = 8"
   ]
  },
  {
   "cell_type": "code",
   "execution_count": 104,
   "id": "cbb33269-b7a9-4983-aa9a-5e9c09106868",
   "metadata": {},
   "outputs": [
    {
     "name": "stderr",
     "output_type": "stream",
     "text": [
      "\n",
      "-> Time Domain Simulation Summary:\n",
      "Sparse Solver: KLU\n",
      "Simulation time: 0.0-8 s.\n",
      "Fixed step size: h=33.33 ms. Shrink if not converged.\n",
      "Calculated TDS.h = 0.0333333\n",
      "Resuming simulation: initial step size is h=0.0333s.\n",
      "Resuming from t=0.0333s.\n"
     ]
    },
    {
     "data": {
      "application/vnd.jupyter.widget-view+json": {
       "model_id": "030eaf4767044546adee8a5d90d890b6",
       "version_major": 2,
       "version_minor": 0
      },
      "text/plain": [
       "  0%|          | 0/100 [00:00<?, ?%/s]"
      ]
     },
     "metadata": {},
     "output_type": "display_data"
    },
    {
     "name": "stderr",
     "output_type": "stream",
     "text": [
      "Start to integrate time step t=0.0333333\n",
      "Jacobian updated at t=0.033333: non-convergence in the last step.\n",
      "Calculated TDS.h = 0.0333333\n",
      "Next time step advanced to t=0.0666667\n",
      "Start to integrate time step t=0.0666667\n",
      "Calculated TDS.h = 0.0333333\n",
      "Next time step advanced to t=0.1\n",
      "Start to integrate time step t=0.1\n",
      "Calculated TDS.h = 0.0333333\n",
      "Next time step advanced to t=0.133333\n",
      "Start to integrate time step t=0.133333\n",
      "Calculated TDS.h = 0.0333333\n",
      "Next time step advanced to t=0.166667\n",
      "Start to integrate time step t=0.166667\n",
      "Calculated TDS.h = 0.0333333\n",
      "Next time step advanced to t=0.2\n",
      "Start to integrate time step t=0.2\n",
      "Calculated TDS.h = 0.0333333\n",
      "Next time step advanced to t=0.233333\n",
      "Start to integrate time step t=0.233333\n",
      "Calculated TDS.h = 0.0333333\n",
      "Next time step advanced to t=0.266667\n",
      "Start to integrate time step t=0.266667\n",
      "Calculated TDS.h = 0.0333333\n",
      "Next time step advanced to t=0.3\n",
      "Start to integrate time step t=0.3\n",
      "Calculated TDS.h = 0.0333333\n",
      "Next time step advanced to t=0.333333\n",
      "Start to integrate time step t=0.333333\n",
      "Calculated TDS.h = 0.0333333\n",
      "Next time step advanced to t=0.366667\n",
      "Start to integrate time step t=0.366667\n",
      "Calculated TDS.h = 0.0333333\n",
      "Next time step advanced to t=0.4\n",
      "Start to integrate time step t=0.4\n",
      "Calculated TDS.h = 0.0333333\n",
      "Next time step advanced to t=0.433333\n",
      "Start to integrate time step t=0.433333\n",
      "Calculated TDS.h = 0.0333333\n",
      "Next time step advanced to t=0.466667\n",
      "Start to integrate time step t=0.466667\n",
      "Calculated TDS.h = 0.0333333\n",
      "Next time step advanced to t=0.5\n",
      "Start to integrate time step t=0.5\n",
      "Calculated TDS.h = 0.0333333\n",
      "Next time step advanced to t=0.533333\n",
      "Start to integrate time step t=0.533333\n",
      "Calculated TDS.h = 0.0333333\n",
      "Next time step advanced to t=0.566667\n",
      "Start to integrate time step t=0.566667\n",
      "Calculated TDS.h = 0.0333333\n",
      "Next time step advanced to t=0.6\n",
      "Start to integrate time step t=0.6\n",
      "Calculated TDS.h = 0.0333333\n",
      "Next time step advanced to t=0.633333\n",
      "Start to integrate time step t=0.633333\n",
      "Calculated TDS.h = 0.0333333\n",
      "Next time step advanced to t=0.666667\n",
      "Start to integrate time step t=0.666667\n",
      "Calculated TDS.h = 0.0333333\n",
      "Next time step advanced to t=0.7\n",
      "Start to integrate time step t=0.7\n",
      "Calculated TDS.h = 0.0333333\n",
      "Next time step advanced to t=0.733333\n",
      "Start to integrate time step t=0.733333\n",
      "Calculated TDS.h = 0.0333333\n",
      "Next time step advanced to t=0.766667\n",
      "Start to integrate time step t=0.766667\n",
      "Calculated TDS.h = 0.0333333\n",
      "Next time step advanced to t=0.8\n",
      "Start to integrate time step t=0.8\n",
      "Calculated TDS.h = 0.0333333\n",
      "Next time step advanced to t=0.833333\n",
      "Start to integrate time step t=0.833333\n",
      "Calculated TDS.h = 0.0333333\n",
      "Next time step advanced to t=0.866667\n",
      "Start to integrate time step t=0.866667\n",
      "Calculated TDS.h = 0.0333333\n",
      "Next time step advanced to t=0.9\n",
      "Start to integrate time step t=0.9\n",
      "Calculated TDS.h = 0.0333333\n",
      "Next time step advanced to t=0.933333\n",
      "Start to integrate time step t=0.933333\n",
      "Calculated TDS.h = 0.0333333\n",
      "Next time step advanced to t=0.966667\n",
      "Start to integrate time step t=0.966667\n",
      "Calculated TDS.h = 0.0333333\n",
      "Next time step advanced to t=1\n",
      "Start to integrate time step t=1\n",
      "Calculated TDS.h = 0.0333333\n",
      "Next time step advanced to t=1.03333\n",
      "Start to integrate time step t=1.03333\n",
      "Calculated TDS.h = 0.0333333\n",
      "Next time step advanced to t=1.06667\n",
      "Start to integrate time step t=1.06667\n",
      "Calculated TDS.h = 0.0333333\n",
      "Next time step advanced to t=1.1\n",
      "Start to integrate time step t=1.1\n",
      "Calculated TDS.h = 0.0333333\n",
      "Next time step advanced to t=1.13333\n",
      "Start to integrate time step t=1.13333\n",
      "Calculated TDS.h = 0.0333333\n",
      "Next time step advanced to t=1.16667\n",
      "Start to integrate time step t=1.16667\n",
      "Calculated TDS.h = 0.0333333\n",
      "Next time step advanced to t=1.2\n",
      "Start to integrate time step t=1.2\n",
      "Calculated TDS.h = 0.0333333\n",
      "Next time step advanced to t=1.23333\n",
      "Start to integrate time step t=1.23333\n",
      "Calculated TDS.h = 0.0333333\n",
      "Next time step advanced to t=1.26667\n",
      "Start to integrate time step t=1.26667\n",
      "Calculated TDS.h = 0.0333333\n",
      "Next time step advanced to t=1.3\n",
      "Start to integrate time step t=1.3\n",
      "Calculated TDS.h = 0.0333333\n",
      "Next time step advanced to t=1.33333\n",
      "Start to integrate time step t=1.33333\n",
      "Calculated TDS.h = 0.0333333\n",
      "Next time step advanced to t=1.36667\n",
      "Start to integrate time step t=1.36667\n",
      "Calculated TDS.h = 0.0333333\n",
      "Next time step advanced to t=1.4\n",
      "Start to integrate time step t=1.4\n",
      "Calculated TDS.h = 0.0333333\n",
      "Next time step advanced to t=1.43333\n",
      "Start to integrate time step t=1.43333\n",
      "Calculated TDS.h = 0.0333333\n",
      "Next time step advanced to t=1.46667\n",
      "Start to integrate time step t=1.46667\n",
      "Calculated TDS.h = 0.0333333\n",
      "Next time step advanced to t=1.5\n",
      "Start to integrate time step t=1.5\n",
      "Calculated TDS.h = 0.0333333\n",
      "Next time step advanced to t=1.53333\n",
      "Start to integrate time step t=1.53333\n",
      "Calculated TDS.h = 0.0333333\n",
      "Next time step advanced to t=1.56667\n",
      "Start to integrate time step t=1.56667\n",
      "Calculated TDS.h = 0.0333333\n",
      "Next time step advanced to t=1.6\n",
      "Start to integrate time step t=1.6\n",
      "Calculated TDS.h = 0.0333333\n",
      "Next time step advanced to t=1.63333\n",
      "Start to integrate time step t=1.63333\n",
      "Calculated TDS.h = 0.0333333\n",
      "Next time step advanced to t=1.66667\n",
      "Start to integrate time step t=1.66667\n",
      "Calculated TDS.h = 0.0333333\n",
      "Next time step advanced to t=1.7\n",
      "Start to integrate time step t=1.7\n",
      "Calculated TDS.h = 0.0333333\n",
      "Next time step advanced to t=1.73333\n",
      "Start to integrate time step t=1.73333\n",
      "Calculated TDS.h = 0.0333333\n",
      "Next time step advanced to t=1.76667\n",
      "Start to integrate time step t=1.76667\n",
      "Calculated TDS.h = 0.0333333\n",
      "Next time step advanced to t=1.8\n",
      "Start to integrate time step t=1.8\n",
      "Calculated TDS.h = 0.0333333\n",
      "Next time step advanced to t=1.83333\n",
      "Start to integrate time step t=1.83333\n",
      "Calculated TDS.h = 0.0333333\n",
      "Next time step advanced to t=1.86667\n",
      "Start to integrate time step t=1.86667\n",
      "Calculated TDS.h = 0.0333333\n",
      "Next time step advanced to t=1.9\n",
      "Start to integrate time step t=1.9\n",
      "Calculated TDS.h = 0.0333333\n",
      "Next time step advanced to t=1.93333\n",
      "Start to integrate time step t=1.93333\n",
      "Calculated TDS.h = 0.0333333\n",
      "Next time step advanced to t=1.96667\n",
      "Start to integrate time step t=1.96667\n",
      "Calculated TDS.h = 0.0333333\n",
      "Next time step advanced to t=2\n",
      "Start to integrate time step t=2\n",
      "Calculated TDS.h = 0.0333333\n",
      "Next time step advanced to t=2.03333\n",
      "Start to integrate time step t=2.03333\n",
      "Calculated TDS.h = 0.0333333\n",
      "Next time step advanced to t=2.06667\n",
      "Start to integrate time step t=2.06667\n",
      "Calculated TDS.h = 0.0333333\n",
      "Next time step advanced to t=2.1\n",
      "Start to integrate time step t=2.1\n",
      "Calculated TDS.h = 0.0333333\n",
      "Next time step advanced to t=2.13333\n",
      "Start to integrate time step t=2.13333\n",
      "Calculated TDS.h = 0.0333333\n",
      "Next time step advanced to t=2.16667\n",
      "Start to integrate time step t=2.16667\n",
      "Calculated TDS.h = 0.0333333\n",
      "Next time step advanced to t=2.2\n",
      "Start to integrate time step t=2.2\n",
      "Calculated TDS.h = 0.0333333\n",
      "Next time step advanced to t=2.23333\n",
      "Start to integrate time step t=2.23333\n",
      "Calculated TDS.h = 0.0333333\n",
      "Next time step advanced to t=2.26667\n",
      "Start to integrate time step t=2.26667\n",
      "Calculated TDS.h = 0.0333333\n",
      "Next time step advanced to t=2.3\n",
      "Start to integrate time step t=2.3\n",
      "Calculated TDS.h = 0.0333333\n",
      "Next time step advanced to t=2.33333\n",
      "Start to integrate time step t=2.33333\n",
      "Calculated TDS.h = 0.0333333\n",
      "Next time step advanced to t=2.36667\n",
      "Start to integrate time step t=2.36667\n",
      "Calculated TDS.h = 0.0333333\n",
      "Next time step advanced to t=2.4\n",
      "Start to integrate time step t=2.4\n",
      "Calculated TDS.h = 0.0333333\n",
      "Next time step advanced to t=2.43333\n",
      "Start to integrate time step t=2.43333\n",
      "Calculated TDS.h = 0.0333333\n",
      "Next time step advanced to t=2.46667\n",
      "Start to integrate time step t=2.46667\n",
      "Calculated TDS.h = 0.0333333\n",
      "Next time step advanced to t=2.5\n",
      "Start to integrate time step t=2.5\n",
      "Calculated TDS.h = 0.0333333\n",
      "Next time step advanced to t=2.53333\n",
      "Start to integrate time step t=2.53333\n",
      "Calculated TDS.h = 0.0333333\n",
      "Next time step advanced to t=2.56667\n",
      "Start to integrate time step t=2.56667\n",
      "Calculated TDS.h = 0.0333333\n",
      "Next time step advanced to t=2.6\n",
      "Start to integrate time step t=2.6\n",
      "Calculated TDS.h = 0.0333333\n",
      "Next time step advanced to t=2.63333\n",
      "Start to integrate time step t=2.63333\n",
      "Calculated TDS.h = 0.0333333\n",
      "Next time step advanced to t=2.66667\n",
      "Start to integrate time step t=2.66667\n",
      "Calculated TDS.h = 0.0333333\n",
      "Next time step advanced to t=2.7\n",
      "Start to integrate time step t=2.7\n",
      "Calculated TDS.h = 0.0333333\n",
      "Next time step advanced to t=2.73333\n",
      "Start to integrate time step t=2.73333\n",
      "Calculated TDS.h = 0.0333333\n",
      "Next time step advanced to t=2.76667\n",
      "Start to integrate time step t=2.76667\n",
      "Calculated TDS.h = 0.0333333\n",
      "Next time step advanced to t=2.8\n",
      "Start to integrate time step t=2.8\n",
      "Calculated TDS.h = 0.0333333\n",
      "Next time step advanced to t=2.83333\n",
      "Start to integrate time step t=2.83333\n",
      "Calculated TDS.h = 0.0333333\n",
      "Next time step advanced to t=2.86667\n",
      "Start to integrate time step t=2.86667\n",
      "Calculated TDS.h = 0.0333333\n",
      "Next time step advanced to t=2.9\n",
      "Start to integrate time step t=2.9\n",
      "Calculated TDS.h = 0.0333333\n",
      "Next time step advanced to t=2.93333\n",
      "Start to integrate time step t=2.93333\n",
      "Calculated TDS.h = 0.0333333\n",
      "Next time step advanced to t=2.96667\n",
      "Start to integrate time step t=2.96667\n",
      "Calculated TDS.h = 0.0333333\n",
      "Next time step advanced to t=3\n",
      "Start to integrate time step t=3\n",
      "Calculated TDS.h = 0.0333333\n",
      "Next time step advanced to t=3.03333\n",
      "Start to integrate time step t=3.03333\n",
      "Calculated TDS.h = 0.0333333\n",
      "Next time step advanced to t=3.06667\n",
      "Start to integrate time step t=3.06667\n",
      "Calculated TDS.h = 0.0333333\n",
      "Next time step advanced to t=3.1\n",
      "Start to integrate time step t=3.1\n",
      "Calculated TDS.h = 0.0333333\n",
      "Next time step advanced to t=3.13333\n",
      "Start to integrate time step t=3.13333\n",
      "Calculated TDS.h = 0.0333333\n",
      "Next time step advanced to t=3.16667\n",
      "Start to integrate time step t=3.16667\n",
      "Calculated TDS.h = 0.0333333\n",
      "Next time step advanced to t=3.2\n",
      "Start to integrate time step t=3.2\n",
      "Calculated TDS.h = 0.0333333\n",
      "Next time step advanced to t=3.23333\n",
      "Start to integrate time step t=3.23333\n",
      "Calculated TDS.h = 0.0333333\n",
      "Next time step advanced to t=3.26667\n",
      "Start to integrate time step t=3.26667\n",
      "Calculated TDS.h = 0.0333333\n",
      "Next time step advanced to t=3.3\n",
      "Start to integrate time step t=3.3\n",
      "Calculated TDS.h = 0.0333333\n",
      "Next time step advanced to t=3.33333\n",
      "Start to integrate time step t=3.33333\n",
      "Calculated TDS.h = 0.0333333\n",
      "Next time step advanced to t=3.36667\n",
      "Start to integrate time step t=3.36667\n",
      "Calculated TDS.h = 0.0333333\n",
      "Next time step advanced to t=3.4\n",
      "Start to integrate time step t=3.4\n",
      "Calculated TDS.h = 0.0333333\n",
      "Next time step advanced to t=3.43333\n",
      "Start to integrate time step t=3.43333\n",
      "Calculated TDS.h = 0.0333333\n",
      "Next time step advanced to t=3.46667\n",
      "Start to integrate time step t=3.46667\n",
      "Calculated TDS.h = 0.0333333\n",
      "Next time step advanced to t=3.5\n",
      "Start to integrate time step t=3.5\n",
      "Calculated TDS.h = 0.0333333\n",
      "Next time step advanced to t=3.53333\n",
      "Start to integrate time step t=3.53333\n",
      "Calculated TDS.h = 0.0333333\n",
      "Next time step advanced to t=3.56667\n",
      "Start to integrate time step t=3.56667\n",
      "Calculated TDS.h = 0.0333333\n",
      "Next time step advanced to t=3.6\n",
      "Start to integrate time step t=3.6\n",
      "Calculated TDS.h = 0.0333333\n",
      "Next time step advanced to t=3.63333\n",
      "Start to integrate time step t=3.63333\n",
      "Calculated TDS.h = 0.0333333\n",
      "Next time step advanced to t=3.66667\n",
      "Start to integrate time step t=3.66667\n",
      "Calculated TDS.h = 0.0333333\n",
      "Next time step advanced to t=3.7\n",
      "Start to integrate time step t=3.7\n",
      "Calculated TDS.h = 0.0333333\n",
      "Next time step advanced to t=3.73333\n",
      "Start to integrate time step t=3.73333\n",
      "Calculated TDS.h = 0.0333333\n",
      "Next time step advanced to t=3.76667\n",
      "Start to integrate time step t=3.76667\n",
      "Calculated TDS.h = 0.0333333\n",
      "Next time step advanced to t=3.8\n",
      "Start to integrate time step t=3.8\n",
      "Calculated TDS.h = 0.0333333\n",
      "Next time step advanced to t=3.83333\n",
      "Start to integrate time step t=3.83333\n",
      "Calculated TDS.h = 0.0333333\n",
      "Next time step advanced to t=3.86667\n",
      "Start to integrate time step t=3.86667\n",
      "Calculated TDS.h = 0.0333333\n",
      "Next time step advanced to t=3.9\n",
      "Start to integrate time step t=3.9\n",
      "Calculated TDS.h = 0.0333333\n",
      "Next time step advanced to t=3.93333\n",
      "Start to integrate time step t=3.93333\n",
      "Calculated TDS.h = 0.0333333\n",
      "Next time step advanced to t=3.96667\n",
      "Start to integrate time step t=3.96667\n",
      "Calculated TDS.h = 0.0333333\n",
      "Next time step advanced to t=4\n",
      "Start to integrate time step t=4\n",
      "Calculated TDS.h = 0.0333333\n",
      "Next time step advanced to t=4.03333\n",
      "Start to integrate time step t=4.03333\n",
      "Calculated TDS.h = 0.0333333\n",
      "Next time step advanced to t=4.06667\n",
      "Start to integrate time step t=4.06667\n",
      "Calculated TDS.h = 0.0333333\n",
      "Next time step advanced to t=4.1\n",
      "Start to integrate time step t=4.1\n",
      "Calculated TDS.h = 0.0333333\n",
      "Next time step advanced to t=4.13333\n",
      "Start to integrate time step t=4.13333\n",
      "Calculated TDS.h = 0.0333333\n",
      "Next time step advanced to t=4.16667\n",
      "Start to integrate time step t=4.16667\n",
      "Calculated TDS.h = 0.0333333\n",
      "Next time step advanced to t=4.2\n",
      "Start to integrate time step t=4.2\n",
      "Calculated TDS.h = 0.0333333\n",
      "Next time step advanced to t=4.23333\n",
      "Start to integrate time step t=4.23333\n",
      "Calculated TDS.h = 0.0333333\n",
      "Next time step advanced to t=4.26667\n",
      "Start to integrate time step t=4.26667\n",
      "Calculated TDS.h = 0.0333333\n",
      "Next time step advanced to t=4.3\n",
      "Start to integrate time step t=4.3\n",
      "Calculated TDS.h = 0.0333333\n",
      "Next time step advanced to t=4.33333\n",
      "Start to integrate time step t=4.33333\n",
      "Calculated TDS.h = 0.0333333\n",
      "Next time step advanced to t=4.36667\n",
      "Start to integrate time step t=4.36667\n",
      "Calculated TDS.h = 0.0333333\n",
      "Next time step advanced to t=4.4\n",
      "Start to integrate time step t=4.4\n",
      "Calculated TDS.h = 0.0333333\n",
      "Next time step advanced to t=4.43333\n",
      "Start to integrate time step t=4.43333\n",
      "Calculated TDS.h = 0.0333333\n",
      "Next time step advanced to t=4.46667\n",
      "Start to integrate time step t=4.46667\n",
      "Calculated TDS.h = 0.0333333\n",
      "Next time step advanced to t=4.5\n",
      "Start to integrate time step t=4.5\n",
      "Calculated TDS.h = 0.0333333\n",
      "Next time step advanced to t=4.53333\n",
      "Start to integrate time step t=4.53333\n",
      "Calculated TDS.h = 0.0333333\n",
      "Next time step advanced to t=4.56667\n",
      "Start to integrate time step t=4.56667\n",
      "Calculated TDS.h = 0.0333333\n",
      "Next time step advanced to t=4.6\n",
      "Start to integrate time step t=4.6\n",
      "Calculated TDS.h = 0.0333333\n",
      "Next time step advanced to t=4.63333\n",
      "Start to integrate time step t=4.63333\n",
      "Calculated TDS.h = 0.0333333\n",
      "Next time step advanced to t=4.66667\n",
      "Start to integrate time step t=4.66667\n",
      "Calculated TDS.h = 0.0333333\n",
      "Next time step advanced to t=4.7\n",
      "Start to integrate time step t=4.7\n",
      "Calculated TDS.h = 0.0333333\n",
      "Next time step advanced to t=4.73333\n",
      "Start to integrate time step t=4.73333\n",
      "Calculated TDS.h = 0.0333333\n",
      "Next time step advanced to t=4.76667\n",
      "Start to integrate time step t=4.76667\n",
      "Calculated TDS.h = 0.0333333\n",
      "Next time step advanced to t=4.8\n",
      "Start to integrate time step t=4.8\n",
      "Calculated TDS.h = 0.0333333\n",
      "Next time step advanced to t=4.83333\n",
      "Start to integrate time step t=4.83333\n",
      "Calculated TDS.h = 0.0333333\n",
      "Next time step advanced to t=4.86667\n",
      "Start to integrate time step t=4.86667\n",
      "Calculated TDS.h = 0.0333333\n",
      "Next time step advanced to t=4.9\n",
      "Start to integrate time step t=4.9\n",
      "Calculated TDS.h = 0.0333333\n",
      "Next time step advanced to t=4.93333\n",
      "Start to integrate time step t=4.93333\n",
      "Calculated TDS.h = 0.0333333\n",
      "Next time step advanced to t=4.96667\n",
      "Start to integrate time step t=4.96667\n",
      "Calculated TDS.h = 0.0333333\n",
      "Next time step advanced to t=5\n",
      "Start to integrate time step t=5\n",
      "Calculated TDS.h = 0.0333333\n",
      "Next time step advanced to t=5.03333\n",
      "Start to integrate time step t=5.03333\n",
      "Calculated TDS.h = 0.0333333\n",
      "Next time step advanced to t=5.06667\n",
      "Start to integrate time step t=5.06667\n",
      "Calculated TDS.h = 0.0333333\n",
      "Next time step advanced to t=5.1\n",
      "Start to integrate time step t=5.1\n",
      "Calculated TDS.h = 0.0333333\n",
      "Next time step advanced to t=5.13333\n",
      "Start to integrate time step t=5.13333\n",
      "Calculated TDS.h = 0.0333333\n",
      "Next time step advanced to t=5.16667\n",
      "Start to integrate time step t=5.16667\n",
      "Calculated TDS.h = 0.0333333\n",
      "Next time step advanced to t=5.2\n",
      "Start to integrate time step t=5.2\n",
      "Calculated TDS.h = 0.0333333\n",
      "Next time step advanced to t=5.23333\n",
      "Start to integrate time step t=5.23333\n",
      "Calculated TDS.h = 0.0333333\n",
      "Next time step advanced to t=5.26667\n",
      "Start to integrate time step t=5.26667\n",
      "Calculated TDS.h = 0.0333333\n",
      "Next time step advanced to t=5.3\n",
      "Start to integrate time step t=5.3\n",
      "Calculated TDS.h = 0.0333333\n",
      "Next time step advanced to t=5.33333\n",
      "Start to integrate time step t=5.33333\n",
      "Calculated TDS.h = 0.0333333\n",
      "Next time step advanced to t=5.36667\n",
      "Start to integrate time step t=5.36667\n",
      "Calculated TDS.h = 0.0333333\n",
      "Next time step advanced to t=5.4\n",
      "Start to integrate time step t=5.4\n",
      "Calculated TDS.h = 0.0333333\n",
      "Next time step advanced to t=5.43333\n",
      "Start to integrate time step t=5.43333\n",
      "Calculated TDS.h = 0.0333333\n",
      "Next time step advanced to t=5.46667\n",
      "Start to integrate time step t=5.46667\n",
      "Calculated TDS.h = 0.0333333\n",
      "Next time step advanced to t=5.5\n",
      "Start to integrate time step t=5.5\n",
      "Calculated TDS.h = 0.0333333\n",
      "Next time step advanced to t=5.53333\n",
      "Start to integrate time step t=5.53333\n",
      "Calculated TDS.h = 0.0333333\n",
      "Next time step advanced to t=5.56667\n",
      "Start to integrate time step t=5.56667\n",
      "Calculated TDS.h = 0.0333333\n",
      "Next time step advanced to t=5.6\n",
      "Start to integrate time step t=5.6\n",
      "Calculated TDS.h = 0.0333333\n",
      "Next time step advanced to t=5.63333\n",
      "Start to integrate time step t=5.63333\n",
      "Calculated TDS.h = 0.0333333\n",
      "Next time step advanced to t=5.66667\n",
      "Start to integrate time step t=5.66667\n",
      "Calculated TDS.h = 0.0333333\n",
      "Next time step advanced to t=5.7\n",
      "Start to integrate time step t=5.7\n",
      "Calculated TDS.h = 0.0333333\n",
      "Next time step advanced to t=5.73333\n",
      "Start to integrate time step t=5.73333\n",
      "Calculated TDS.h = 0.0333333\n",
      "Next time step advanced to t=5.76667\n",
      "Start to integrate time step t=5.76667\n",
      "Calculated TDS.h = 0.0333333\n",
      "Next time step advanced to t=5.8\n",
      "Start to integrate time step t=5.8\n",
      "Calculated TDS.h = 0.0333333\n",
      "Next time step advanced to t=5.83333\n",
      "Start to integrate time step t=5.83333\n",
      "Calculated TDS.h = 0.0333333\n",
      "Next time step advanced to t=5.86667\n",
      "Start to integrate time step t=5.86667\n",
      "Calculated TDS.h = 0.0333333\n",
      "Next time step advanced to t=5.9\n",
      "Start to integrate time step t=5.9\n",
      "Calculated TDS.h = 0.0333333\n",
      "Next time step advanced to t=5.93333\n",
      "Start to integrate time step t=5.93333\n",
      "Calculated TDS.h = 0.0333333\n",
      "Next time step advanced to t=5.96667\n",
      "Start to integrate time step t=5.96667\n",
      "Calculated TDS.h = 0.0333333\n",
      "Next time step advanced to t=6\n",
      "Start to integrate time step t=6\n",
      "Calculated TDS.h = 0.0333333\n",
      "Next time step advanced to t=6.03333\n",
      "Start to integrate time step t=6.03333\n",
      "Calculated TDS.h = 0.0333333\n",
      "Next time step advanced to t=6.06667\n",
      "Start to integrate time step t=6.06667\n",
      "Calculated TDS.h = 0.0333333\n",
      "Next time step advanced to t=6.1\n",
      "Start to integrate time step t=6.1\n",
      "Calculated TDS.h = 0.0333333\n",
      "Next time step advanced to t=6.13333\n",
      "Start to integrate time step t=6.13333\n",
      "Calculated TDS.h = 0.0333333\n",
      "Next time step advanced to t=6.16667\n",
      "Start to integrate time step t=6.16667\n",
      "Calculated TDS.h = 0.0333333\n",
      "Next time step advanced to t=6.2\n",
      "Start to integrate time step t=6.2\n",
      "Calculated TDS.h = 0.0333333\n",
      "Next time step advanced to t=6.23333\n",
      "Start to integrate time step t=6.23333\n",
      "Calculated TDS.h = 0.0333333\n",
      "Next time step advanced to t=6.26667\n",
      "Start to integrate time step t=6.26667\n",
      "Calculated TDS.h = 0.0333333\n",
      "Next time step advanced to t=6.3\n",
      "Start to integrate time step t=6.3\n",
      "Calculated TDS.h = 0.0333333\n",
      "Next time step advanced to t=6.33333\n",
      "Start to integrate time step t=6.33333\n",
      "Calculated TDS.h = 0.0333333\n",
      "Next time step advanced to t=6.36667\n",
      "Start to integrate time step t=6.36667\n",
      "Calculated TDS.h = 0.0333333\n",
      "Next time step advanced to t=6.4\n",
      "Start to integrate time step t=6.4\n",
      "Calculated TDS.h = 0.0333333\n",
      "Next time step advanced to t=6.43333\n",
      "Start to integrate time step t=6.43333\n",
      "Calculated TDS.h = 0.0333333\n",
      "Next time step advanced to t=6.46667\n",
      "Start to integrate time step t=6.46667\n",
      "Calculated TDS.h = 0.0333333\n",
      "Next time step advanced to t=6.5\n",
      "Start to integrate time step t=6.5\n",
      "Calculated TDS.h = 0.0333333\n",
      "Next time step advanced to t=6.53333\n",
      "Start to integrate time step t=6.53333\n",
      "Calculated TDS.h = 0.0333333\n",
      "Next time step advanced to t=6.56667\n",
      "Start to integrate time step t=6.56667\n",
      "Calculated TDS.h = 0.0333333\n",
      "Next time step advanced to t=6.6\n",
      "Start to integrate time step t=6.6\n",
      "Calculated TDS.h = 0.0333333\n",
      "Next time step advanced to t=6.63333\n",
      "Start to integrate time step t=6.63333\n",
      "Calculated TDS.h = 0.0333333\n",
      "Next time step advanced to t=6.66667\n",
      "Start to integrate time step t=6.66667\n",
      "Calculated TDS.h = 0.0333333\n",
      "Next time step advanced to t=6.7\n",
      "Start to integrate time step t=6.7\n",
      "Calculated TDS.h = 0.0333333\n",
      "Next time step advanced to t=6.73333\n",
      "Start to integrate time step t=6.73333\n",
      "Calculated TDS.h = 0.0333333\n",
      "Next time step advanced to t=6.76667\n",
      "Start to integrate time step t=6.76667\n",
      "Calculated TDS.h = 0.0333333\n",
      "Next time step advanced to t=6.8\n",
      "Start to integrate time step t=6.8\n",
      "Calculated TDS.h = 0.0333333\n",
      "Next time step advanced to t=6.83333\n",
      "Start to integrate time step t=6.83333\n",
      "Calculated TDS.h = 0.0333333\n",
      "Next time step advanced to t=6.86667\n",
      "Start to integrate time step t=6.86667\n",
      "Calculated TDS.h = 0.0333333\n",
      "Next time step advanced to t=6.9\n",
      "Start to integrate time step t=6.9\n",
      "Calculated TDS.h = 0.0333333\n",
      "Next time step advanced to t=6.93333\n",
      "Start to integrate time step t=6.93333\n",
      "Calculated TDS.h = 0.0333333\n",
      "Next time step advanced to t=6.96667\n",
      "Start to integrate time step t=6.96667\n",
      "Calculated TDS.h = 0.0333333\n",
      "Next time step advanced to t=7\n",
      "Start to integrate time step t=7\n",
      "Calculated TDS.h = 0.0333333\n",
      "Next time step advanced to t=7.03333\n",
      "Start to integrate time step t=7.03333\n",
      "Calculated TDS.h = 0.0333333\n",
      "Next time step advanced to t=7.06667\n",
      "Start to integrate time step t=7.06667\n",
      "Calculated TDS.h = 0.0333333\n",
      "Next time step advanced to t=7.1\n",
      "Start to integrate time step t=7.1\n",
      "Calculated TDS.h = 0.0333333\n",
      "Next time step advanced to t=7.13333\n",
      "Start to integrate time step t=7.13333\n",
      "Calculated TDS.h = 0.0333333\n",
      "Next time step advanced to t=7.16667\n",
      "Start to integrate time step t=7.16667\n",
      "Calculated TDS.h = 0.0333333\n",
      "Next time step advanced to t=7.2\n",
      "Start to integrate time step t=7.2\n",
      "Calculated TDS.h = 0.0333333\n",
      "Next time step advanced to t=7.23333\n",
      "Start to integrate time step t=7.23333\n",
      "Calculated TDS.h = 0.0333333\n",
      "Next time step advanced to t=7.26667\n",
      "Start to integrate time step t=7.26667\n",
      "Calculated TDS.h = 0.0333333\n",
      "Next time step advanced to t=7.3\n",
      "Start to integrate time step t=7.3\n",
      "Calculated TDS.h = 0.0333333\n",
      "Next time step advanced to t=7.33333\n",
      "Start to integrate time step t=7.33333\n",
      "Calculated TDS.h = 0.0333333\n",
      "Next time step advanced to t=7.36667\n",
      "Start to integrate time step t=7.36667\n",
      "Calculated TDS.h = 0.0333333\n",
      "Next time step advanced to t=7.4\n",
      "Start to integrate time step t=7.4\n",
      "Calculated TDS.h = 0.0333333\n",
      "Next time step advanced to t=7.43333\n",
      "Start to integrate time step t=7.43333\n",
      "Calculated TDS.h = 0.0333333\n",
      "Next time step advanced to t=7.46667\n",
      "Start to integrate time step t=7.46667\n",
      "Calculated TDS.h = 0.0333333\n",
      "Next time step advanced to t=7.5\n",
      "Start to integrate time step t=7.5\n",
      "Calculated TDS.h = 0.0333333\n",
      "Next time step advanced to t=7.53333\n",
      "Start to integrate time step t=7.53333\n",
      "Calculated TDS.h = 0.0333333\n",
      "Next time step advanced to t=7.56667\n",
      "Start to integrate time step t=7.56667\n",
      "Calculated TDS.h = 0.0333333\n",
      "Next time step advanced to t=7.6\n",
      "Start to integrate time step t=7.6\n",
      "Calculated TDS.h = 0.0333333\n",
      "Next time step advanced to t=7.63333\n",
      "Start to integrate time step t=7.63333\n",
      "Calculated TDS.h = 0.0333333\n",
      "Next time step advanced to t=7.66667\n",
      "Start to integrate time step t=7.66667\n",
      "Calculated TDS.h = 0.0333333\n",
      "Next time step advanced to t=7.7\n",
      "Start to integrate time step t=7.7\n",
      "Calculated TDS.h = 0.0333333\n",
      "Next time step advanced to t=7.73333\n",
      "Start to integrate time step t=7.73333\n",
      "Calculated TDS.h = 0.0333333\n",
      "Next time step advanced to t=7.76667\n",
      "Start to integrate time step t=7.76667\n",
      "Calculated TDS.h = 0.0333333\n",
      "Next time step advanced to t=7.8\n",
      "Start to integrate time step t=7.8\n",
      "Calculated TDS.h = 0.0333333\n",
      "Next time step advanced to t=7.83333\n",
      "Start to integrate time step t=7.83333\n",
      "Calculated TDS.h = 0.0333333\n",
      "Next time step advanced to t=7.86667\n",
      "Start to integrate time step t=7.86667\n",
      "Calculated TDS.h = 0.0333333\n",
      "Next time step advanced to t=7.9\n",
      "Start to integrate time step t=7.9\n",
      "Calculated TDS.h = 0.0333333\n",
      "Next time step advanced to t=7.93333\n",
      "Start to integrate time step t=7.93333\n",
      "Calculated TDS.h = 0.0333333\n",
      "Next time step advanced to t=7.96667\n",
      "Start to integrate time step t=7.96667\n",
      "Calculated TDS.h = 0.0333333\n",
      "Next time step advanced to t=8\n",
      "Start to integrate time step t=8\n",
      "Calculated TDS.h = 1.86517e-14\n",
      "Next time step advanced to t=8\n",
      "Start to integrate time step t=8\n",
      "Calculated TDS.h = 0\n",
      "Next time step advanced to t=8\n",
      "Simulation to t=8.00 sec completed in 0.6086 seconds.\n",
      "Outputs to \"Gen_Load1_out.lst\" and \"Gen_Load1_out.npz\".\n",
      "Outputs written in 0.0008 seconds.\n"
     ]
    },
    {
     "data": {
      "text/plain": [
       "True"
      ]
     },
     "execution_count": 104,
     "metadata": {},
     "output_type": "execute_result"
    }
   ],
   "source": [
    "ss.TDS.run()"
   ]
  },
  {
   "cell_type": "code",
   "execution_count": 105,
   "id": "2ab6d7ef-ffe0-4468-b0cb-cae45bef3126",
   "metadata": {},
   "outputs": [
    {
     "data": {
      "text/plain": [
       "0"
      ]
     },
     "execution_count": 105,
     "metadata": {},
     "output_type": "execute_result"
    }
   ],
   "source": [
    "# number of errors in the simulation\n",
    "ss.exit_code"
   ]
  },
  {
   "cell_type": "code",
   "execution_count": 106,
   "id": "0b210dec-5827-4330-8651-d74d90390259",
   "metadata": {},
   "outputs": [
    {
     "data": {
      "text/plain": [
       "<andes.plot.TDSData at 0x70348b064670>"
      ]
     },
     "execution_count": 106,
     "metadata": {},
     "output_type": "execute_result"
    }
   ],
   "source": [
    "ss.TDS.plt"
   ]
  },
  {
   "cell_type": "code",
   "execution_count": 107,
   "id": "733bbcca-b9e9-4529-971e-9f2a757c7eed",
   "metadata": {},
   "outputs": [
    {
     "name": "stderr",
     "output_type": "stream",
     "text": [
      "CSV data saved to \"/home/marina/Gen_Load1_out.csv\".\n"
     ]
    },
    {
     "data": {
      "text/plain": [
       "'/home/marina/Gen_Load1_out.csv'"
      ]
     },
     "execution_count": 107,
     "metadata": {},
     "output_type": "execute_result"
    }
   ],
   "source": [
    "ss.TDS.plt.export_csv()"
   ]
  },
  {
   "cell_type": "code",
   "execution_count": 108,
   "id": "bcea017a-d774-40f6-b0f3-b164d4a41aba",
   "metadata": {},
   "outputs": [],
   "source": [
    "#fig, ax = ss.TDS.plt.plot((1, 2))"
   ]
  },
  {
   "cell_type": "code",
   "execution_count": null,
   "id": "11020289-5b0e-4c2f-a898-25a9661b2c6a",
   "metadata": {},
   "outputs": [],
   "source": []
  }
 ],
 "metadata": {
  "kernelspec": {
   "display_name": "my_env",
   "language": "python",
   "name": "my_env"
  },
  "language_info": {
   "codemirror_mode": {
    "name": "ipython",
    "version": 3
   },
   "file_extension": ".py",
   "mimetype": "text/x-python",
   "name": "python",
   "nbconvert_exporter": "python",
   "pygments_lexer": "ipython3",
   "version": "3.8.18"
  }
 },
 "nbformat": 4,
 "nbformat_minor": 5
}
